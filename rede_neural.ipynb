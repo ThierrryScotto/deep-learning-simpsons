{
  "nbformat": 4,
  "nbformat_minor": 0,
  "metadata": {
    "colab": {
      "name": "rede neural.ipynb",
      "provenance": [],
      "collapsed_sections": [],
      "toc_visible": true,
      "authorship_tag": "ABX9TyPyO7v9WqzP0mXwW4byO7Ns",
      "include_colab_link": true
    },
    "kernelspec": {
      "name": "python3",
      "display_name": "Python 3"
    },
    "language_info": {
      "name": "python"
    }
  },
  "cells": [
    {
      "cell_type": "markdown",
      "metadata": {
        "id": "view-in-github",
        "colab_type": "text"
      },
      "source": [
        "<a href=\"https://colab.research.google.com/github/ThierrryScotto/deep-learning-simpsons/blob/main/rede_neural.ipynb\" target=\"_parent\"><img src=\"https://colab.research.google.com/assets/colab-badge.svg\" alt=\"Open In Colab\"/></a>"
      ]
    },
    {
      "cell_type": "code",
      "execution_count": 17,
      "metadata": {
        "id": "rUkRIloQx6BZ",
        "colab": {
          "base_uri": "https://localhost:8080/",
          "height": 35
        },
        "outputId": "f9e0049d-cef9-4df9-ffb8-fe24b56fb0ac"
      },
      "outputs": [
        {
          "output_type": "execute_result",
          "data": {
            "application/vnd.google.colaboratory.intrinsic+json": {
              "type": "string"
            },
            "text/plain": [
              "'2.8.0'"
            ]
          },
          "metadata": {},
          "execution_count": 17
        }
      ],
      "source": [
        "import tensorflow as tf\n",
        "import pandas as pd\n",
        "import numpy as np\n",
        "import seaborn as sns  # lib de graficos\n",
        "import matplotlib.pyplot as plt\n",
        "tf.__version__"
      ]
    },
    {
      "cell_type": "code",
      "source": [
        "dataset = pd.read_csv('personagens.csv')"
      ],
      "metadata": {
        "id": "CpMDpSOF3ehO"
      },
      "execution_count": 18,
      "outputs": []
    },
    {
      "cell_type": "code",
      "source": [
        "dataset.shape"
      ],
      "metadata": {
        "id": "319OQwcI4aOv",
        "colab": {
          "base_uri": "https://localhost:8080/"
        },
        "outputId": "e1540ab7-f5de-44ef-94d1-683376cf4273"
      },
      "execution_count": 19,
      "outputs": [
        {
          "output_type": "execute_result",
          "data": {
            "text/plain": [
              "(293, 7)"
            ]
          },
          "metadata": {},
          "execution_count": 19
        }
      ]
    },
    {
      "cell_type": "markdown",
      "source": [
        "# New Section"
      ],
      "metadata": {
        "id": "EjT9RPRd3ugR"
      }
    },
    {
      "cell_type": "code",
      "source": [
        "# visualizar os 5 primeiros dados\n",
        "dataset.head"
      ],
      "metadata": {
        "id": "Pio7monT4dUA",
        "colab": {
          "base_uri": "https://localhost:8080/"
        },
        "outputId": "023eac86-aba1-4da2-a3af-a3cc7a8df451"
      },
      "execution_count": 20,
      "outputs": [
        {
          "output_type": "execute_result",
          "data": {
            "text/plain": [
              "<bound method NDFrame.head of      laranja_camisa_bart  azul_calcao_bart  ...  cinza_sapato_homer  classe\n",
              "0               6.886102          3.495204  ...            0.062954    Bart\n",
              "1               5.004901          3.183889  ...            0.033024    Bart\n",
              "2               5.264620          5.029683  ...            0.151573    Bart\n",
              "3               0.000000          0.000000  ...            0.021164    Bart\n",
              "4               8.978929          3.459119  ...            0.011593    Bart\n",
              "..                   ...               ...  ...                 ...     ...\n",
              "288             0.000000          0.000000  ...            0.093921   Homer\n",
              "289             0.000000          0.000000  ...            0.042194   Homer\n",
              "290             0.000000          0.000000  ...            0.076761   Homer\n",
              "291             0.000000          0.000000  ...            0.017013   Homer\n",
              "292             0.000000          0.000000  ...            0.063546   Homer\n",
              "\n",
              "[293 rows x 7 columns]>"
            ]
          },
          "metadata": {},
          "execution_count": 20
        }
      ]
    },
    {
      "cell_type": "code",
      "source": [
        "# visualizar os 5 ultimos\n",
        "dataset.tail()"
      ],
      "metadata": {
        "id": "Nn-xzXvx4edj",
        "colab": {
          "base_uri": "https://localhost:8080/",
          "height": 206
        },
        "outputId": "d263fac2-8907-4827-e768-a3fc82d0b8c6"
      },
      "execution_count": 21,
      "outputs": [
        {
          "output_type": "execute_result",
          "data": {
            "text/html": [
              "\n",
              "  <div id=\"df-017cd51d-3f8d-421d-8937-04b9bfa96778\">\n",
              "    <div class=\"colab-df-container\">\n",
              "      <div>\n",
              "<style scoped>\n",
              "    .dataframe tbody tr th:only-of-type {\n",
              "        vertical-align: middle;\n",
              "    }\n",
              "\n",
              "    .dataframe tbody tr th {\n",
              "        vertical-align: top;\n",
              "    }\n",
              "\n",
              "    .dataframe thead th {\n",
              "        text-align: right;\n",
              "    }\n",
              "</style>\n",
              "<table border=\"1\" class=\"dataframe\">\n",
              "  <thead>\n",
              "    <tr style=\"text-align: right;\">\n",
              "      <th></th>\n",
              "      <th>laranja_camisa_bart</th>\n",
              "      <th>azul_calcao_bart</th>\n",
              "      <th>azul_sapato_bart</th>\n",
              "      <th>marrom_boca_homer</th>\n",
              "      <th>azul_calca_homer</th>\n",
              "      <th>cinza_sapato_homer</th>\n",
              "      <th>classe</th>\n",
              "    </tr>\n",
              "  </thead>\n",
              "  <tbody>\n",
              "    <tr>\n",
              "      <th>288</th>\n",
              "      <td>0.0</td>\n",
              "      <td>0.0</td>\n",
              "      <td>0.0</td>\n",
              "      <td>0.000000</td>\n",
              "      <td>6.485412</td>\n",
              "      <td>0.093921</td>\n",
              "      <td>Homer</td>\n",
              "    </tr>\n",
              "    <tr>\n",
              "      <th>289</th>\n",
              "      <td>0.0</td>\n",
              "      <td>0.0</td>\n",
              "      <td>0.0</td>\n",
              "      <td>0.000000</td>\n",
              "      <td>0.000000</td>\n",
              "      <td>0.042194</td>\n",
              "      <td>Homer</td>\n",
              "    </tr>\n",
              "    <tr>\n",
              "      <th>290</th>\n",
              "      <td>0.0</td>\n",
              "      <td>0.0</td>\n",
              "      <td>0.0</td>\n",
              "      <td>0.000000</td>\n",
              "      <td>4.263629</td>\n",
              "      <td>0.076761</td>\n",
              "      <td>Homer</td>\n",
              "    </tr>\n",
              "    <tr>\n",
              "      <th>291</th>\n",
              "      <td>0.0</td>\n",
              "      <td>0.0</td>\n",
              "      <td>0.0</td>\n",
              "      <td>0.000000</td>\n",
              "      <td>1.429134</td>\n",
              "      <td>0.017013</td>\n",
              "      <td>Homer</td>\n",
              "    </tr>\n",
              "    <tr>\n",
              "      <th>292</th>\n",
              "      <td>0.0</td>\n",
              "      <td>0.0</td>\n",
              "      <td>0.0</td>\n",
              "      <td>13.744248</td>\n",
              "      <td>0.853902</td>\n",
              "      <td>0.063546</td>\n",
              "      <td>Homer</td>\n",
              "    </tr>\n",
              "  </tbody>\n",
              "</table>\n",
              "</div>\n",
              "      <button class=\"colab-df-convert\" onclick=\"convertToInteractive('df-017cd51d-3f8d-421d-8937-04b9bfa96778')\"\n",
              "              title=\"Convert this dataframe to an interactive table.\"\n",
              "              style=\"display:none;\">\n",
              "        \n",
              "  <svg xmlns=\"http://www.w3.org/2000/svg\" height=\"24px\"viewBox=\"0 0 24 24\"\n",
              "       width=\"24px\">\n",
              "    <path d=\"M0 0h24v24H0V0z\" fill=\"none\"/>\n",
              "    <path d=\"M18.56 5.44l.94 2.06.94-2.06 2.06-.94-2.06-.94-.94-2.06-.94 2.06-2.06.94zm-11 1L8.5 8.5l.94-2.06 2.06-.94-2.06-.94L8.5 2.5l-.94 2.06-2.06.94zm10 10l.94 2.06.94-2.06 2.06-.94-2.06-.94-.94-2.06-.94 2.06-2.06.94z\"/><path d=\"M17.41 7.96l-1.37-1.37c-.4-.4-.92-.59-1.43-.59-.52 0-1.04.2-1.43.59L10.3 9.45l-7.72 7.72c-.78.78-.78 2.05 0 2.83L4 21.41c.39.39.9.59 1.41.59.51 0 1.02-.2 1.41-.59l7.78-7.78 2.81-2.81c.8-.78.8-2.07 0-2.86zM5.41 20L4 18.59l7.72-7.72 1.47 1.35L5.41 20z\"/>\n",
              "  </svg>\n",
              "      </button>\n",
              "      \n",
              "  <style>\n",
              "    .colab-df-container {\n",
              "      display:flex;\n",
              "      flex-wrap:wrap;\n",
              "      gap: 12px;\n",
              "    }\n",
              "\n",
              "    .colab-df-convert {\n",
              "      background-color: #E8F0FE;\n",
              "      border: none;\n",
              "      border-radius: 50%;\n",
              "      cursor: pointer;\n",
              "      display: none;\n",
              "      fill: #1967D2;\n",
              "      height: 32px;\n",
              "      padding: 0 0 0 0;\n",
              "      width: 32px;\n",
              "    }\n",
              "\n",
              "    .colab-df-convert:hover {\n",
              "      background-color: #E2EBFA;\n",
              "      box-shadow: 0px 1px 2px rgba(60, 64, 67, 0.3), 0px 1px 3px 1px rgba(60, 64, 67, 0.15);\n",
              "      fill: #174EA6;\n",
              "    }\n",
              "\n",
              "    [theme=dark] .colab-df-convert {\n",
              "      background-color: #3B4455;\n",
              "      fill: #D2E3FC;\n",
              "    }\n",
              "\n",
              "    [theme=dark] .colab-df-convert:hover {\n",
              "      background-color: #434B5C;\n",
              "      box-shadow: 0px 1px 3px 1px rgba(0, 0, 0, 0.15);\n",
              "      filter: drop-shadow(0px 1px 2px rgba(0, 0, 0, 0.3));\n",
              "      fill: #FFFFFF;\n",
              "    }\n",
              "  </style>\n",
              "\n",
              "      <script>\n",
              "        const buttonEl =\n",
              "          document.querySelector('#df-017cd51d-3f8d-421d-8937-04b9bfa96778 button.colab-df-convert');\n",
              "        buttonEl.style.display =\n",
              "          google.colab.kernel.accessAllowed ? 'block' : 'none';\n",
              "\n",
              "        async function convertToInteractive(key) {\n",
              "          const element = document.querySelector('#df-017cd51d-3f8d-421d-8937-04b9bfa96778');\n",
              "          const dataTable =\n",
              "            await google.colab.kernel.invokeFunction('convertToInteractive',\n",
              "                                                     [key], {});\n",
              "          if (!dataTable) return;\n",
              "\n",
              "          const docLinkHtml = 'Like what you see? Visit the ' +\n",
              "            '<a target=\"_blank\" href=https://colab.research.google.com/notebooks/data_table.ipynb>data table notebook</a>'\n",
              "            + ' to learn more about interactive tables.';\n",
              "          element.innerHTML = '';\n",
              "          dataTable['output_type'] = 'display_data';\n",
              "          await google.colab.output.renderOutput(dataTable, element);\n",
              "          const docLink = document.createElement('div');\n",
              "          docLink.innerHTML = docLinkHtml;\n",
              "          element.appendChild(docLink);\n",
              "        }\n",
              "      </script>\n",
              "    </div>\n",
              "  </div>\n",
              "  "
            ],
            "text/plain": [
              "     laranja_camisa_bart  azul_calcao_bart  ...  cinza_sapato_homer  classe\n",
              "288                  0.0               0.0  ...            0.093921   Homer\n",
              "289                  0.0               0.0  ...            0.042194   Homer\n",
              "290                  0.0               0.0  ...            0.076761   Homer\n",
              "291                  0.0               0.0  ...            0.017013   Homer\n",
              "292                  0.0               0.0  ...            0.063546   Homer\n",
              "\n",
              "[5 rows x 7 columns]"
            ]
          },
          "metadata": {},
          "execution_count": 21
        }
      ]
    },
    {
      "cell_type": "code",
      "source": [
        "sns.countplot( x = 'classe', data=dataset)"
      ],
      "metadata": {
        "id": "d5xxGb7R4pN_",
        "colab": {
          "base_uri": "https://localhost:8080/",
          "height": 296
        },
        "outputId": "51a9a7a1-0b45-4e2a-da30-9f4c4b83761f"
      },
      "execution_count": 22,
      "outputs": [
        {
          "output_type": "execute_result",
          "data": {
            "text/plain": [
              "<matplotlib.axes._subplots.AxesSubplot at 0x7f70f39c15d0>"
            ]
          },
          "metadata": {},
          "execution_count": 22
        },
        {
          "output_type": "display_data",
          "data": {
            "image/png": "[encoded data removed]",
            "text/plain": [
              "<Figure size 432x288 with 1 Axes>"
            ]
          },
          "metadata": {
            "needs_background": "light"
          }
        }
      ]
    },
    {
      "cell_type": "code",
      "source": [
        "# grafico que indica o quanto uma váriavel está relacionada a outra \n",
        "sns.heatmap(dataset.corr(), annot=True)"
      ],
      "metadata": {
        "id": "L6TZye8u43Ky",
        "colab": {
          "base_uri": "https://localhost:8080/",
          "height": 382
        },
        "outputId": "e24737f2-c758-4570-db86-a5fbe44fc78b"
      },
      "execution_count": 23,
      "outputs": [
        {
          "output_type": "execute_result",
          "data": {
            "text/plain": [
              "<matplotlib.axes._subplots.AxesSubplot at 0x7f7075665390>"
            ]
          },
          "metadata": {},
          "execution_count": 23
        },
        {
          "output_type": "display_data",
          "data": {
            "image/png": "[encoded data removed]",
            "text/plain": [
              "<Figure size 432x288 with 2 Axes>"
            ]
          },
          "metadata": {
            "needs_background": "light"
          }
        }
      ]
    },
    {
      "cell_type": "code",
      "source": [
        "# definimos quais colunas queremos pegar do dataset\n",
        "# [:, 0:6] pega todas as colunas de 0 a 5\n",
        "X = dataset.iloc[:, 0:6].values\n",
        "X"
      ],
      "metadata": {
        "id": "1isPhvN25GCG",
        "colab": {
          "base_uri": "https://localhost:8080/"
        },
        "outputId": "8fc6f8e7-2594-4022-c052-cd1b23387dec"
      },
      "execution_count": 24,
      "outputs": [
        {
          "output_type": "execute_result",
          "data": {
            "text/plain": [
              "array([[ 6.886102  ,  3.4952044 ,  1.4849836 ,  0.        ,  0.        ,\n",
              "         0.06295441],\n",
              "       [ 5.004901  ,  3.1838887 ,  1.0001415 ,  0.        ,  0.        ,\n",
              "         0.03302354],\n",
              "       [ 5.2646203 ,  5.0296826 ,  0.283567  ,  0.        ,  0.        ,\n",
              "         0.15157256],\n",
              "       ...,\n",
              "       [ 0.        ,  0.        ,  0.        ,  0.        ,  4.2636285 ,\n",
              "         0.07676148],\n",
              "       [ 0.        ,  0.        ,  0.        ,  0.        ,  1.4291335 ,\n",
              "         0.01701349],\n",
              "       [ 0.        ,  0.        ,  0.        , 13.744248  ,  0.853902  ,\n",
              "         0.0635462 ]])"
            ]
          },
          "metadata": {},
          "execution_count": 24
        }
      ]
    },
    {
      "cell_type": "code",
      "source": [
        "# Pega a coluna 6 somente\n",
        "y = dataset.iloc[:, 6].values\n",
        "y"
      ],
      "metadata": {
        "id": "Eui3gCSH58iN",
        "colab": {
          "base_uri": "https://localhost:8080/"
        },
        "outputId": "64b4d3d5-cd8b-4c35-8c97-324ac2d1b6ca"
      },
      "execution_count": 25,
      "outputs": [
        {
          "output_type": "execute_result",
          "data": {
            "text/plain": [
              "array(['Bart', 'Bart', 'Bart', 'Bart', 'Bart', 'Bart', 'Bart', 'Bart',\n",
              "       'Bart', 'Bart', 'Bart', 'Bart', 'Bart', 'Bart', 'Bart', 'Bart',\n",
              "       'Bart', 'Bart', 'Bart', 'Bart', 'Bart', 'Bart', 'Bart', 'Bart',\n",
              "       'Bart', 'Bart', 'Bart', 'Bart', 'Bart', 'Bart', 'Bart', 'Bart',\n",
              "       'Bart', 'Bart', 'Bart', 'Bart', 'Bart', 'Bart', 'Bart', 'Bart',\n",
              "       'Bart', 'Bart', 'Bart', 'Bart', 'Bart', 'Bart', 'Bart', 'Bart',\n",
              "       'Bart', 'Bart', 'Bart', 'Bart', 'Bart', 'Bart', 'Bart', 'Bart',\n",
              "       'Bart', 'Bart', 'Bart', 'Bart', 'Bart', 'Bart', 'Bart', 'Bart',\n",
              "       'Bart', 'Bart', 'Bart', 'Bart', 'Bart', 'Bart', 'Bart', 'Bart',\n",
              "       'Bart', 'Bart', 'Bart', 'Bart', 'Bart', 'Bart', 'Bart', 'Bart',\n",
              "       'Bart', 'Bart', 'Bart', 'Bart', 'Bart', 'Bart', 'Bart', 'Bart',\n",
              "       'Bart', 'Bart', 'Bart', 'Bart', 'Bart', 'Bart', 'Bart', 'Bart',\n",
              "       'Bart', 'Bart', 'Bart', 'Bart', 'Bart', 'Bart', 'Bart', 'Bart',\n",
              "       'Bart', 'Bart', 'Bart', 'Bart', 'Bart', 'Bart', 'Bart', 'Bart',\n",
              "       'Bart', 'Bart', 'Bart', 'Bart', 'Bart', 'Bart', 'Bart', 'Bart',\n",
              "       'Bart', 'Bart', 'Bart', 'Bart', 'Bart', 'Bart', 'Bart', 'Bart',\n",
              "       'Bart', 'Bart', 'Bart', 'Bart', 'Bart', 'Bart', 'Bart', 'Bart',\n",
              "       'Bart', 'Bart', 'Bart', 'Bart', 'Bart', 'Bart', 'Bart', 'Bart',\n",
              "       'Bart', 'Bart', 'Bart', 'Bart', 'Bart', 'Bart', 'Bart', 'Bart',\n",
              "       'Bart', 'Bart', 'Bart', 'Bart', 'Bart', 'Bart', 'Bart', 'Bart',\n",
              "       'Bart', 'Bart', 'Bart', 'Bart', 'Bart', 'Bart', 'Bart', 'Bart',\n",
              "       'Bart', 'Homer', 'Homer', 'Homer', 'Homer', 'Homer', 'Homer',\n",
              "       'Homer', 'Homer', 'Homer', 'Homer', 'Homer', 'Homer', 'Homer',\n",
              "       'Homer', 'Homer', 'Homer', 'Homer', 'Homer', 'Homer', 'Homer',\n",
              "       'Homer', 'Homer', 'Homer', 'Homer', 'Homer', 'Homer', 'Homer',\n",
              "       'Homer', 'Homer', 'Homer', 'Homer', 'Homer', 'Homer', 'Homer',\n",
              "       'Homer', 'Homer', 'Homer', 'Homer', 'Homer', 'Homer', 'Homer',\n",
              "       'Homer', 'Homer', 'Homer', 'Homer', 'Homer', 'Homer', 'Homer',\n",
              "       'Homer', 'Homer', 'Homer', 'Homer', 'Homer', 'Homer', 'Homer',\n",
              "       'Homer', 'Homer', 'Homer', 'Homer', 'Homer', 'Homer', 'Homer',\n",
              "       'Homer', 'Homer', 'Homer', 'Homer', 'Homer', 'Homer', 'Homer',\n",
              "       'Homer', 'Homer', 'Homer', 'Homer', 'Homer', 'Homer', 'Homer',\n",
              "       'Homer', 'Homer', 'Homer', 'Homer', 'Homer', 'Homer', 'Homer',\n",
              "       'Homer', 'Homer', 'Homer', 'Homer', 'Homer', 'Homer', 'Homer',\n",
              "       'Homer', 'Homer', 'Homer', 'Homer', 'Homer', 'Homer', 'Homer',\n",
              "       'Homer', 'Homer', 'Homer', 'Homer', 'Homer', 'Homer', 'Homer',\n",
              "       'Homer', 'Homer', 'Homer', 'Homer', 'Homer', 'Homer', 'Homer',\n",
              "       'Homer', 'Homer', 'Homer', 'Homer', 'Homer', 'Homer', 'Homer',\n",
              "       'Homer', 'Homer', 'Homer', 'Homer', 'Homer', 'Homer'], dtype=object)"
            ]
          },
          "metadata": {},
          "execution_count": 25
        }
      ]
    },
    {
      "cell_type": "code",
      "source": [
        "# converter as classes para binarios Bar- True Hommer-False\n",
        "y = (y == 'Bart')\n",
        "y"
      ],
      "metadata": {
        "id": "FtPUbBZ16RRm",
        "colab": {
          "base_uri": "https://localhost:8080/"
        },
        "outputId": "4738cc76-6038-4c5e-996f-698de3937faa"
      },
      "execution_count": 26,
      "outputs": [
        {
          "output_type": "execute_result",
          "data": {
            "text/plain": [
              "array([ True,  True,  True,  True,  True,  True,  True,  True,  True,\n",
              "        True,  True,  True,  True,  True,  True,  True,  True,  True,\n",
              "        True,  True,  True,  True,  True,  True,  True,  True,  True,\n",
              "        True,  True,  True,  True,  True,  True,  True,  True,  True,\n",
              "        True,  True,  True,  True,  True,  True,  True,  True,  True,\n",
              "        True,  True,  True,  True,  True,  True,  True,  True,  True,\n",
              "        True,  True,  True,  True,  True,  True,  True,  True,  True,\n",
              "        True,  True,  True,  True,  True,  True,  True,  True,  True,\n",
              "        True,  True,  True,  True,  True,  True,  True,  True,  True,\n",
              "        True,  True,  True,  True,  True,  True,  True,  True,  True,\n",
              "        True,  True,  True,  True,  True,  True,  True,  True,  True,\n",
              "        True,  True,  True,  True,  True,  True,  True,  True,  True,\n",
              "        True,  True,  True,  True,  True,  True,  True,  True,  True,\n",
              "        True,  True,  True,  True,  True,  True,  True,  True,  True,\n",
              "        True,  True,  True,  True,  True,  True,  True,  True,  True,\n",
              "        True,  True,  True,  True,  True,  True,  True,  True,  True,\n",
              "        True,  True,  True,  True,  True,  True,  True,  True,  True,\n",
              "        True,  True,  True,  True,  True,  True,  True,  True,  True,\n",
              "        True,  True,  True,  True,  True,  True,  True, False, False,\n",
              "       False, False, False, False, False, False, False, False, False,\n",
              "       False, False, False, False, False, False, False, False, False,\n",
              "       False, False, False, False, False, False, False, False, False,\n",
              "       False, False, False, False, False, False, False, False, False,\n",
              "       False, False, False, False, False, False, False, False, False,\n",
              "       False, False, False, False, False, False, False, False, False,\n",
              "       False, False, False, False, False, False, False, False, False,\n",
              "       False, False, False, False, False, False, False, False, False,\n",
              "       False, False, False, False, False, False, False, False, False,\n",
              "       False, False, False, False, False, False, False, False, False,\n",
              "       False, False, False, False, False, False, False, False, False,\n",
              "       False, False, False, False, False, False, False, False, False,\n",
              "       False, False, False, False, False, False, False, False, False,\n",
              "       False, False, False, False, False])"
            ]
          },
          "metadata": {},
          "execution_count": 26
        }
      ]
    },
    {
      "cell_type": "code",
      "source": [
        "from sklearn.model_selection import train_test_split\n",
        "\n",
        "X_treinamento, X_teste, y_treinamento, y_teste = train_test_split(X, y, test_size=0.2)"
      ],
      "metadata": {
        "id": "EhSslR8k6fl4"
      },
      "execution_count": 27,
      "outputs": []
    },
    {
      "cell_type": "code",
      "source": [
        "X_treinamento.shape, y_treinamento.shape"
      ],
      "metadata": {
        "id": "U1EHFjs67EPp",
        "colab": {
          "base_uri": "https://localhost:8080/"
        },
        "outputId": "690a4eaf-ea95-4f0c-c9cf-aa58fff08f3b"
      },
      "execution_count": 28,
      "outputs": [
        {
          "output_type": "execute_result",
          "data": {
            "text/plain": [
              "((234, 6), (234,))"
            ]
          },
          "metadata": {},
          "execution_count": 28
        }
      ]
    },
    {
      "cell_type": "code",
      "source": [
        "X_teste.shape, y_teste.shape"
      ],
      "metadata": {
        "id": "W3Pg3Knn7HUG",
        "colab": {
          "base_uri": "https://localhost:8080/"
        },
        "outputId": "42886ff3-5ebd-4912-9db6-b6c4615b1dd5"
      },
      "execution_count": 29,
      "outputs": [
        {
          "output_type": "execute_result",
          "data": {
            "text/plain": [
              "((59, 6), (59,))"
            ]
          },
          "metadata": {},
          "execution_count": 29
        }
      ]
    },
    {
      "cell_type": "markdown",
      "source": [
        "**Contrução e treinamento da Rede Neural**"
      ],
      "metadata": {
        "id": "busOXtlX7kqF"
      }
    },
    {
      "cell_type": "code",
      "source": [
        "# (entradas + saídas) / 2\n",
        "# 6 -> 4 -> 4-> 4 -> 1"
      ],
      "metadata": {
        "id": "CDuQjmM17ta3"
      },
      "execution_count": 30,
      "outputs": []
    },
    {
      "cell_type": "code",
      "source": [
        "# estrutura da rede neural\n",
        "# dense: define que todos os neuronios sejam conectados\n",
        "\n",
        "rede_neural = tf.keras.models.Sequential()\n",
        "rede_neural.add(tf.keras.layers.Dense(units=4, activation='relu', input_shape=(6,)))\n",
        "rede_neural.add(tf.keras.layers.Dense(units=4, activation='relu'))\n",
        "rede_neural.add(tf.keras.layers.Dense(units=4, activation='relu'))\n",
        "rede_neural.add(tf.keras.layers.Dense(units=1, activation='sigmoid'))\n"
      ],
      "metadata": {
        "id": "rx2EaP1xHehe"
      },
      "execution_count": 31,
      "outputs": []
    },
    {
      "cell_type": "code",
      "source": [
        "rede_neural.summary()"
      ],
      "metadata": {
        "id": "jEM2wBMYJDRj",
        "colab": {
          "base_uri": "https://localhost:8080/"
        },
        "outputId": "ab87a84a-4109-4b86-f683-cb4c4821643b"
      },
      "execution_count": 32,
      "outputs": [
        {
          "output_type": "stream",
          "name": "stdout",
          "text": [
            "Model: \"sequential_1\"\n",
            "_________________________________________________________________\n",
            " Layer (type)                Output Shape              Param #   \n",
            "=================================================================\n",
            " dense_4 (Dense)             (None, 4)                 28        \n",
            "                                                                 \n",
            " dense_5 (Dense)             (None, 4)                 20        \n",
            "                                                                 \n",
            " dense_6 (Dense)             (None, 4)                 20        \n",
            "                                                                 \n",
            " dense_7 (Dense)             (None, 1)                 5         \n",
            "                                                                 \n",
            "=================================================================\n",
            "Total params: 73\n",
            "Trainable params: 73\n",
            "Non-trainable params: 0\n",
            "_________________________________________________________________\n"
          ]
        }
      ]
    },
    {
      "cell_type": "code",
      "source": [
        "rede_neural.compile(optimizer='Adam', loss='binary_crossentropy', metrics= ['accuracy'])"
      ],
      "metadata": {
        "id": "DGlhcbWHJTM8"
      },
      "execution_count": 33,
      "outputs": []
    },
    {
      "cell_type": "code",
      "source": [
        "historico = rede_neural.fit(X_treinamento, y_treinamento, epochs=50, validation_split=0.1)"
      ],
      "metadata": {
        "id": "PEuKhEdnJ5xZ",
        "colab": {
          "base_uri": "https://localhost:8080/"
        },
        "outputId": "8b5942b1-b5f3-4f67-ac83-5812b78ec65b"
      },
      "execution_count": 45,
      "outputs": [
        {
          "output_type": "stream",
          "name": "stdout",
          "text": [
            "Epoch 1/50\n",
            "7/7 [==============================] - 0s 15ms/step - loss: 0.2746 - accuracy: 0.9000 - val_loss: 0.1699 - val_accuracy: 1.0000\n",
            "Epoch 2/50\n",
            "7/7 [==============================] - 0s 7ms/step - loss: 0.2741 - accuracy: 0.9000 - val_loss: 0.1690 - val_accuracy: 1.0000\n",
            "Epoch 3/50\n",
            "7/7 [==============================] - 0s 7ms/step - loss: 0.2736 - accuracy: 0.9000 - val_loss: 0.1682 - val_accuracy: 1.0000\n",
            "Epoch 4/50\n",
            "7/7 [==============================] - 0s 8ms/step - loss: 0.2731 - accuracy: 0.9000 - val_loss: 0.1676 - val_accuracy: 1.0000\n",
            "Epoch 5/50\n",
            "7/7 [==============================] - 0s 8ms/step - loss: 0.2727 - accuracy: 0.8952 - val_loss: 0.1670 - val_accuracy: 1.0000\n",
            "Epoch 6/50\n",
            "7/7 [==============================] - 0s 8ms/step - loss: 0.2722 - accuracy: 0.8952 - val_loss: 0.1663 - val_accuracy: 1.0000\n",
            "Epoch 7/50\n",
            "7/7 [==============================] - 0s 8ms/step - loss: 0.2717 - accuracy: 0.8952 - val_loss: 0.1655 - val_accuracy: 1.0000\n",
            "Epoch 8/50\n",
            "7/7 [==============================] - 0s 9ms/step - loss: 0.2714 - accuracy: 0.8952 - val_loss: 0.1649 - val_accuracy: 1.0000\n",
            "Epoch 9/50\n",
            "7/7 [==============================] - 0s 9ms/step - loss: 0.2709 - accuracy: 0.8952 - val_loss: 0.1641 - val_accuracy: 1.0000\n",
            "Epoch 10/50\n",
            "7/7 [==============================] - 0s 8ms/step - loss: 0.2704 - accuracy: 0.8952 - val_loss: 0.1634 - val_accuracy: 1.0000\n",
            "Epoch 11/50\n",
            "7/7 [==============================] - 0s 7ms/step - loss: 0.2701 - accuracy: 0.8952 - val_loss: 0.1626 - val_accuracy: 1.0000\n",
            "Epoch 12/50\n",
            "7/7 [==============================] - 0s 8ms/step - loss: 0.2699 - accuracy: 0.8952 - val_loss: 0.1622 - val_accuracy: 1.0000\n",
            "Epoch 13/50\n",
            "7/7 [==============================] - 0s 7ms/step - loss: 0.2692 - accuracy: 0.8952 - val_loss: 0.1613 - val_accuracy: 1.0000\n",
            "Epoch 14/50\n",
            "7/7 [==============================] - 0s 8ms/step - loss: 0.2689 - accuracy: 0.8952 - val_loss: 0.1607 - val_accuracy: 1.0000\n",
            "Epoch 15/50\n",
            "7/7 [==============================] - 0s 8ms/step - loss: 0.2685 - accuracy: 0.8952 - val_loss: 0.1597 - val_accuracy: 1.0000\n",
            "Epoch 16/50\n",
            "7/7 [==============================] - 0s 8ms/step - loss: 0.2680 - accuracy: 0.9000 - val_loss: 0.1591 - val_accuracy: 1.0000\n",
            "Epoch 17/50\n",
            "7/7 [==============================] - 0s 7ms/step - loss: 0.2675 - accuracy: 0.9000 - val_loss: 0.1583 - val_accuracy: 1.0000\n",
            "Epoch 18/50\n",
            "7/7 [==============================] - 0s 7ms/step - loss: 0.2671 - accuracy: 0.9000 - val_loss: 0.1575 - val_accuracy: 1.0000\n",
            "Epoch 19/50\n",
            "7/7 [==============================] - 0s 8ms/step - loss: 0.2667 - accuracy: 0.9000 - val_loss: 0.1568 - val_accuracy: 1.0000\n",
            "Epoch 20/50\n",
            "7/7 [==============================] - 0s 8ms/step - loss: 0.2663 - accuracy: 0.9000 - val_loss: 0.1561 - val_accuracy: 1.0000\n",
            "Epoch 21/50\n",
            "7/7 [==============================] - 0s 7ms/step - loss: 0.2659 - accuracy: 0.9000 - val_loss: 0.1554 - val_accuracy: 1.0000\n",
            "Epoch 22/50\n",
            "7/7 [==============================] - 0s 7ms/step - loss: 0.2656 - accuracy: 0.9000 - val_loss: 0.1548 - val_accuracy: 1.0000\n",
            "Epoch 23/50\n",
            "7/7 [==============================] - 0s 6ms/step - loss: 0.2651 - accuracy: 0.9000 - val_loss: 0.1541 - val_accuracy: 1.0000\n",
            "Epoch 24/50\n",
            "7/7 [==============================] - 0s 5ms/step - loss: 0.2647 - accuracy: 0.9000 - val_loss: 0.1534 - val_accuracy: 1.0000\n",
            "Epoch 25/50\n",
            "7/7 [==============================] - 0s 5ms/step - loss: 0.2644 - accuracy: 0.9000 - val_loss: 0.1527 - val_accuracy: 1.0000\n",
            "Epoch 26/50\n",
            "7/7 [==============================] - 0s 7ms/step - loss: 0.2639 - accuracy: 0.9000 - val_loss: 0.1518 - val_accuracy: 1.0000\n",
            "Epoch 27/50\n",
            "7/7 [==============================] - 0s 6ms/step - loss: 0.2635 - accuracy: 0.9000 - val_loss: 0.1511 - val_accuracy: 1.0000\n",
            "Epoch 28/50\n",
            "7/7 [==============================] - 0s 5ms/step - loss: 0.2632 - accuracy: 0.9000 - val_loss: 0.1503 - val_accuracy: 1.0000\n",
            "Epoch 29/50\n",
            "7/7 [==============================] - 0s 5ms/step - loss: 0.2628 - accuracy: 0.9000 - val_loss: 0.1496 - val_accuracy: 1.0000\n",
            "Epoch 30/50\n",
            "7/7 [==============================] - 0s 5ms/step - loss: 0.2624 - accuracy: 0.9000 - val_loss: 0.1489 - val_accuracy: 1.0000\n",
            "Epoch 31/50\n",
            "7/7 [==============================] - 0s 5ms/step - loss: 0.2621 - accuracy: 0.9000 - val_loss: 0.1484 - val_accuracy: 1.0000\n",
            "Epoch 32/50\n",
            "7/7 [==============================] - 0s 5ms/step - loss: 0.2617 - accuracy: 0.9000 - val_loss: 0.1476 - val_accuracy: 1.0000\n",
            "Epoch 33/50\n",
            "7/7 [==============================] - 0s 5ms/step - loss: 0.2614 - accuracy: 0.9000 - val_loss: 0.1470 - val_accuracy: 1.0000\n",
            "Epoch 34/50\n",
            "7/7 [==============================] - 0s 5ms/step - loss: 0.2608 - accuracy: 0.9000 - val_loss: 0.1466 - val_accuracy: 1.0000\n",
            "Epoch 35/50\n",
            "7/7 [==============================] - 0s 6ms/step - loss: 0.2604 - accuracy: 0.9000 - val_loss: 0.1462 - val_accuracy: 1.0000\n",
            "Epoch 36/50\n",
            "7/7 [==============================] - 0s 6ms/step - loss: 0.2600 - accuracy: 0.9000 - val_loss: 0.1457 - val_accuracy: 1.0000\n",
            "Epoch 37/50\n",
            "7/7 [==============================] - 0s 5ms/step - loss: 0.2598 - accuracy: 0.9000 - val_loss: 0.1452 - val_accuracy: 1.0000\n",
            "Epoch 38/50\n",
            "7/7 [==============================] - 0s 5ms/step - loss: 0.2594 - accuracy: 0.9000 - val_loss: 0.1444 - val_accuracy: 1.0000\n",
            "Epoch 39/50\n",
            "7/7 [==============================] - 0s 5ms/step - loss: 0.2590 - accuracy: 0.9000 - val_loss: 0.1438 - val_accuracy: 1.0000\n",
            "Epoch 40/50\n",
            "7/7 [==============================] - 0s 5ms/step - loss: 0.2587 - accuracy: 0.9000 - val_loss: 0.1430 - val_accuracy: 1.0000\n",
            "Epoch 41/50\n",
            "7/7 [==============================] - 0s 5ms/step - loss: 0.2583 - accuracy: 0.9000 - val_loss: 0.1423 - val_accuracy: 1.0000\n",
            "Epoch 42/50\n",
            "7/7 [==============================] - 0s 5ms/step - loss: 0.2579 - accuracy: 0.9000 - val_loss: 0.1418 - val_accuracy: 1.0000\n",
            "Epoch 43/50\n",
            "7/7 [==============================] - 0s 5ms/step - loss: 0.2578 - accuracy: 0.9000 - val_loss: 0.1413 - val_accuracy: 1.0000\n",
            "Epoch 44/50\n",
            "7/7 [==============================] - 0s 5ms/step - loss: 0.2572 - accuracy: 0.9000 - val_loss: 0.1405 - val_accuracy: 1.0000\n",
            "Epoch 45/50\n",
            "7/7 [==============================] - 0s 5ms/step - loss: 0.2570 - accuracy: 0.9000 - val_loss: 0.1400 - val_accuracy: 1.0000\n",
            "Epoch 46/50\n",
            "7/7 [==============================] - 0s 5ms/step - loss: 0.2565 - accuracy: 0.9000 - val_loss: 0.1393 - val_accuracy: 1.0000\n",
            "Epoch 47/50\n",
            "7/7 [==============================] - 0s 5ms/step - loss: 0.2561 - accuracy: 0.9000 - val_loss: 0.1387 - val_accuracy: 1.0000\n",
            "Epoch 48/50\n",
            "7/7 [==============================] - 0s 5ms/step - loss: 0.2558 - accuracy: 0.9000 - val_loss: 0.1381 - val_accuracy: 1.0000\n",
            "Epoch 49/50\n",
            "7/7 [==============================] - 0s 5ms/step - loss: 0.2554 - accuracy: 0.9000 - val_loss: 0.1374 - val_accuracy: 1.0000\n",
            "Epoch 50/50\n",
            "7/7 [==============================] - 0s 5ms/step - loss: 0.2551 - accuracy: 0.9000 - val_loss: 0.1368 - val_accuracy: 1.0000\n"
          ]
        }
      ]
    },
    {
      "cell_type": "code",
      "source": [
        "historico.history.keys()"
      ],
      "metadata": {
        "id": "Gos-KtMAKLUc",
        "colab": {
          "base_uri": "https://localhost:8080/"
        },
        "outputId": "d32e1a11-6c7d-4c1f-e9ea-57d8935d25de"
      },
      "execution_count": 47,
      "outputs": [
        {
          "output_type": "execute_result",
          "data": {
            "text/plain": [
              "dict_keys(['loss', 'accuracy', 'val_loss', 'val_accuracy'])"
            ]
          },
          "metadata": {},
          "execution_count": 47
        }
      ]
    },
    {
      "cell_type": "code",
      "source": [
        "plt.plot(historico.history['val_loss'])"
      ],
      "metadata": {
        "colab": {
          "base_uri": "https://localhost:8080/",
          "height": 283
        },
        "id": "bbOAkKumNHCd",
        "outputId": "ad95da77-17ba-4ccb-c95d-448e7ae5081f"
      },
      "execution_count": 43,
      "outputs": [
        {
          "output_type": "execute_result",
          "data": {
            "text/plain": [
              "[<matplotlib.lines.Line2D at 0x7f7070724650>]"
            ]
          },
          "metadata": {},
          "execution_count": 43
        },
        {
          "output_type": "display_data",
          "data": {
            "image/png": "[encoded data removed]",
            "text/plain": [
              "<Figure size 432x288 with 1 Axes>"
            ]
          },
          "metadata": {
            "needs_background": "light"
          }
        }
      ]
    },
    {
      "cell_type": "code",
      "source": [
        "plt.plot(historico.history['val_accuracy'])"
      ],
      "metadata": {
        "colab": {
          "base_uri": "https://localhost:8080/",
          "height": 282
        },
        "id": "jJxc6_EDNbvx",
        "outputId": "3c78af99-0add-4757-fee1-9fb38d1c3369"
      },
      "execution_count": 48,
      "outputs": [
        {
          "output_type": "execute_result",
          "data": {
            "text/plain": [
              "[<matplotlib.lines.Line2D at 0x7f70705f6bd0>]"
            ]
          },
          "metadata": {},
          "execution_count": 48
        },
        {
          "output_type": "display_data",
          "data": {
            "image/png": "[encoded data removed]",
            "text/plain": [
              "<Figure size 432x288 with 1 Axes>"
            ]
          },
          "metadata": {
            "needs_background": "light"
          }
        }
      ]
    },
    {
      "cell_type": "code",
      "source": [
        "previsoes = rede_neural.predict(X_teste)\n",
        "previsoes"
      ],
      "metadata": {
        "id": "KUia2bdUNmqY"
      },
      "execution_count": null,
      "outputs": []
    },
    {
      "cell_type": "code",
      "source": [
        "# 0 false - Hommer \n",
        "# 1 true - Bart\n",
        "\n",
        "previsoes = (previsoes > 0.5)\n",
        "previsoes[:10]"
      ],
      "metadata": {
        "colab": {
          "base_uri": "https://localhost:8080/"
        },
        "id": "nWV-3t1vN6Qs",
        "outputId": "6fc1dedc-ede8-4927-9081-e43e46bddb23"
      },
      "execution_count": 59,
      "outputs": [
        {
          "output_type": "execute_result",
          "data": {
            "text/plain": [
              "array([[ True],\n",
              "       [False],\n",
              "       [ True],\n",
              "       [ True],\n",
              "       [False],\n",
              "       [ True],\n",
              "       [ True],\n",
              "       [ True],\n",
              "       [False],\n",
              "       [False]])"
            ]
          },
          "metadata": {},
          "execution_count": 59
        }
      ]
    },
    {
      "cell_type": "code",
      "source": [
        "y_teste[:10]"
      ],
      "metadata": {
        "colab": {
          "base_uri": "https://localhost:8080/"
        },
        "id": "OgfmJxOuOtph",
        "outputId": "f76c0b5b-d3a5-4363-987d-cd60033dba0d"
      },
      "execution_count": 60,
      "outputs": [
        {
          "output_type": "execute_result",
          "data": {
            "text/plain": [
              "array([False, False,  True,  True, False,  True,  True,  True, False,\n",
              "       False])"
            ]
          },
          "metadata": {},
          "execution_count": 60
        }
      ]
    },
    {
      "cell_type": "code",
      "source": [
        "from sklearn.metrics import accuracy_score\n",
        "accuracy_score(previsoes, y_teste)"
      ],
      "metadata": {
        "colab": {
          "base_uri": "https://localhost:8080/"
        },
        "id": "wXVkAsSeO69r",
        "outputId": "a002f6b3-e962-42f2-d7b5-1b97f6bb3dfe"
      },
      "execution_count": 69,
      "outputs": [
        {
          "output_type": "execute_result",
          "data": {
            "text/plain": [
              "0.8135593220338984"
            ]
          },
          "metadata": {},
          "execution_count": 69
        }
      ]
    },
    {
      "cell_type": "code",
      "source": [
        "from sklearn.metrics import confusion_matrix\n",
        "cm = confusion_matrix(y_teste, previsoes)"
      ],
      "metadata": {
        "id": "T_TOlnBbPROh"
      },
      "execution_count": 71,
      "outputs": []
    },
    {
      "cell_type": "code",
      "source": [
        "sns.heatmap(cm, annot=True)"
      ],
      "metadata": {
        "colab": {
          "base_uri": "https://localhost:8080/",
          "height": 282
        },
        "id": "Bi98vSJYQLkS",
        "outputId": "702f0909-7e8f-4afb-d257-f2d25e98ff6d"
      },
      "execution_count": 73,
      "outputs": [
        {
          "output_type": "execute_result",
          "data": {
            "text/plain": [
              "<matplotlib.axes._subplots.AxesSubplot at 0x7f706e1c0cd0>"
            ]
          },
          "metadata": {},
          "execution_count": 73
        },
        {
          "output_type": "display_data",
          "data": {
            "image/png": "[encoded data removed]",
            "text/plain": [
              "<Figure size 432x288 with 2 Axes>"
            ]
          },
          "metadata": {
            "needs_background": "light"
          }
        }
      ]
    },
    {
      "cell_type": "code",
      "source": [
        ""
      ],
      "metadata": {
        "id": "yHqjN0xOQXjV"
      },
      "execution_count": null,
      "outputs": []
    }
  ]
}